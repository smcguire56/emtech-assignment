{
 "cells": [
  {
   "cell_type": "markdown",
   "metadata": {},
   "source": [
    "# The numpy.random package\n",
    "\n",
    "***\n",
    "![numpy logo](https://www.pytorchtutorial.com/wp-content/uploads/2018/07/numpy-logo.png)\n",
    "\n",
    "***\n"
   ]
  },
  {
   "cell_type": "markdown",
   "metadata": {},
   "source": [
    "***\n",
    "\n",
    "jupyter notebook explaining the concepts behind and the use of the numpy random package,\n",
    "including plots of the various distributions.\n",
    "\n",
    "\n",
    "***\n",
    "\n",
    "Initial numpy random test on the rand function. The parameters that this function takes are integers, it can take as many dimensions as the user wishes generally only using 1 or 2 dimensions. Here I have generated 1000 random numbers using the rand function and it returns an array with 1000 random numbers between 0 and 1, including 0 but not 1. I have also graphed these numbers for a better visualization of how suedo random these numbers are.\n",
    "\n",
    "src: https://docs.scipy.org/doc/numpy-1.13.0/reference/routines.random.html"
   ]
  },
  {
   "cell_type": "code",
   "execution_count": 1,
   "metadata": {},
   "outputs": [],
   "source": [
    "# Initial imports: numpy and plotting libraries\n",
    "import numpy as np\n",
    "import matplotlib.pyplot as plt"
   ]
  },
  {
   "cell_type": "code",
   "execution_count": 2,
   "metadata": {},
   "outputs": [
    {
     "data": {
      "text/plain": [
       "numpy.ndarray"
      ]
     },
     "execution_count": 2,
     "metadata": {},
     "output_type": "execute_result"
    }
   ],
   "source": [
    "# Lets first create 1000 random numbers between 0 and 1, excluding 1.\n",
    "x = np.random.rand(1000)\n",
    "\n",
    "# the type command will show us what type of object we are using.\n",
    "type(x)\n",
    "\n",
    "# Help command allows you to learn about a specific function\n",
    "# help(np.random.rand)"
   ]
  },
  {
   "cell_type": "code",
   "execution_count": 3,
   "metadata": {},
   "outputs": [
    {
     "data": {
      "image/png": "[encoded data removed]",
      "text/plain": [
       "<Figure size 432x288 with 1 Axes>"
      ]
     },
     "metadata": {},
     "output_type": "display_data"
    }
   ],
   "source": [
    "plt.hist(x)\n",
    "plt.show()"
   ]
  },
  {
   "cell_type": "markdown",
   "metadata": {},
   "source": [
    "The second function I will be researching here is the uniform function. This function allows for more input parameters such as the lower values, the higher values and also the size. When the user inputs values for the low and high, if the higher value is lower than the low value the function will switch these values and still run, so it is not a good idea to rely on this function if you are relying on the inequality condition."
   ]
  },
  {
   "cell_type": "code",
   "execution_count": 4,
   "metadata": {},
   "outputs": [],
   "source": [
    "x = np.random.uniform(-1, 0, 1000)"
   ]
  },
  {
   "cell_type": "code",
   "execution_count": 5,
   "metadata": {},
   "outputs": [
    {
     "data": {
      "text/plain": [
       "(array([110.,  94.,  96.,  96.,  95.,  97.,  98., 114., 114.,  86.]),\n",
       " array([-9.99630554e-01, -8.99689910e-01, -7.99749266e-01, -6.99808622e-01,\n",
       "        -5.99867978e-01, -4.99927334e-01, -3.99986690e-01, -3.00046046e-01,\n",
       "        -2.00105402e-01, -1.00164758e-01, -2.24114094e-04]),\n",
       " <a list of 10 Patch objects>)"
      ]
     },
     "execution_count": 5,
     "metadata": {},
     "output_type": "execute_result"
    },
    {
     "data": {
      "image/png": "[encoded data removed]",
      "text/plain": [
       "<Figure size 432x288 with 1 Axes>"
      ]
     },
     "metadata": {},
     "output_type": "display_data"
    }
   ],
   "source": [
    "plt.hist(x)"
   ]
  },
  {
   "cell_type": "markdown",
   "metadata": {},
   "source": [
    "The normal function found in NumPy states Draw random samples from a normal (Gaussian) distribution. this function takes in 3 inputs: loc (mean), scale (Standard Deviation) and the size. Returning a scaler graphical representation of what is commonly referred to as the bell curve.\n",
    "ref: https://en.wikipedia.org/wiki/Normal_distribution\n"
   ]
  },
  {
   "cell_type": "code",
   "execution_count": 6,
   "metadata": {},
   "outputs": [],
   "source": [
    "x = np.random.normal(0.1, 1, 1000)"
   ]
  },
  {
   "cell_type": "code",
   "execution_count": 7,
   "metadata": {},
   "outputs": [
    {
     "data": {
      "text/plain": [
       "(array([  4.,  15.,  54., 138., 248., 291., 169.,  62.,  14.,   5.]),\n",
       " array([-3.53314838, -2.82796416, -2.12277995, -1.41759573, -0.71241151,\n",
       "        -0.00722729,  0.69795693,  1.40314115,  2.10832537,  2.81350959,\n",
       "         3.51869381]),\n",
       " <a list of 10 Patch objects>)"
      ]
     },
     "execution_count": 7,
     "metadata": {},
     "output_type": "execute_result"
    },
    {
     "data": {
      "image/png": "[encoded data removed]",
      "text/plain": [
       "<Figure size 432x288 with 1 Axes>"
      ]
     },
     "metadata": {},
     "output_type": "display_data"
    }
   ],
   "source": [
    "plt.hist(x)"
   ]
  },
  {
   "cell_type": "markdown",
   "metadata": {},
   "source": [
    "# numpy randint"
   ]
  },
  {
   "cell_type": "markdown",
   "metadata": {},
   "source": [
    "randint is very similar to rand however, it only returns value in integer format. This function can take up to 4 inputs, the low, high, size and dtype. for the dtype it is optional and can specify what the data type of the integers you want back, int64 or int etc."
   ]
  },
  {
   "cell_type": "code",
   "execution_count": 8,
   "metadata": {},
   "outputs": [],
   "source": [
    "x = np.random.randint(1, 100, 1000)"
   ]
  },
  {
   "cell_type": "code",
   "execution_count": 9,
   "metadata": {},
   "outputs": [
    {
     "data": {
      "text/plain": [
       "(array([102., 108.,  90., 100., 103., 106.,  89., 104., 106.,  92.]),\n",
       " array([ 1. , 10.8, 20.6, 30.4, 40.2, 50. , 59.8, 69.6, 79.4, 89.2, 99. ]),\n",
       " <a list of 10 Patch objects>)"
      ]
     },
     "execution_count": 9,
     "metadata": {},
     "output_type": "execute_result"
    },
    {
     "data": {
      "image/png": "[encoded data removed]",
      "text/plain": [
       "<Figure size 432x288 with 1 Axes>"
      ]
     },
     "metadata": {},
     "output_type": "display_data"
    }
   ],
   "source": [
    "plt.hist(x)"
   ]
  },
  {
   "cell_type": "markdown",
   "metadata": {},
   "source": [
    "# numpy random power"
   ]
  },
  {
   "cell_type": "markdown",
   "metadata": {},
   "source": [
    "The power distribution of the random dependency takes 2 parameters, a being the size of the distribution which is a float value, and the samples value. The greater the amount of samples the smoother the curve will be. \n",
    "adapted from: \n",
    "https://docs.scipy.org/doc/numpy-1.15.0/reference/generated/numpy.random.power.html#numpy.random.power\n",
    "https://en.wikipedia.org/wiki/Pareto_principle\n",
    "https://en.wikipedia.org/wiki/Power_law\n",
    "\n",
    "Including some examples of the power function are https://en.wikipedia.org/wiki/Initial_mass_function."
   ]
  },
  {
   "cell_type": "code",
   "execution_count": 10,
   "metadata": {},
   "outputs": [
    {
     "data": {
      "image/png": "[encoded data removed]",
      "text/plain": [
       "<Figure size 432x288 with 1 Axes>"
      ]
     },
     "metadata": {},
     "output_type": "display_data"
    }
   ],
   "source": [
    "count, bins, ignored = plt.hist(np.random.power(6, 10000000), bins=30)\n",
    "x = np.linspace(0, 1, 100)\n",
    "y = 6*x**(6-1.)\n",
    "normed_y = 10000000*np.diff(bins)[0]*y\n",
    "plt.plot(x, normed_y)\n",
    "plt.show()"
   ]
  },
  {
   "cell_type": "markdown",
   "metadata": {},
   "source": [
    "# numpy.random.poisson"
   ]
  },
  {
   "cell_type": "markdown",
   "metadata": {},
   "source": [
    "The Poisson distribution may be useful to model events such as:\n",
    "\n",
    "    The number of meteorites greater than 1 meter diameter that strike Earth in a year\n",
    "    The number of patients arriving in an emergency room between 10 and 11 pm\n",
    "    The number of photons hitting a detector in a particular time interval\n",
    "    \n",
    "src: https://en.wikipedia.org/wiki/Poisson_distribution\n",
    "\n",
    "The poisson function in numpy takes 2 values: \n",
    "    lam = Expected Interval value (float)\n",
    "    size = The shape that you want to be displayed."
   ]
  },
  {
   "cell_type": "code",
   "execution_count": 11,
   "metadata": {},
   "outputs": [],
   "source": [
    "s = np.random.poisson(5, 10000)"
   ]
  },
  {
   "cell_type": "code",
   "execution_count": 12,
   "metadata": {},
   "outputs": [
    {
     "data": {
      "image/png": "[encoded data removed]",
      "text/plain": [
       "<Figure size 432x288 with 1 Axes>"
      ]
     },
     "metadata": {},
     "output_type": "display_data"
    }
   ],
   "source": [
    "import matplotlib.pyplot as plt\n",
    "count, bins, ignored = plt.hist(s, 14, density=True)\n",
    "plt.show()"
   ]
  },
  {
   "cell_type": "code",
   "execution_count": 13,
   "metadata": {},
   "outputs": [
    {
     "data": {
      "image/png": "[encoded data removed]",
      "text/plain": [
       "<Figure size 432x288 with 1 Axes>"
      ]
     },
     "metadata": {},
     "output_type": "display_data"
    }
   ],
   "source": [
    "s = np.random.poisson(lam=(100., 500.), size=(100, 2))\n",
    "count, bins, ignored = plt.hist(s, 14, density=True)\n",
    "plt.show()"
   ]
  },
  {
   "cell_type": "markdown",
   "metadata": {},
   "source": [
    " \n",
    "The NumPy. Random package\n",
    "jupyter notebook explaining the concepts behind and the use of the numpy random package,\n",
    "including plots of the various distributions.\n",
    "\n",
    "1.\tRand\n",
    "Parameters:\td0, d1, …, dn : int, optional\n",
    "The dimensions of the returned array should all be positive. If no argument is given a single Python float is returned.\n",
    "Returns:\t\n",
    "output: ndarray, shape (d0, d1, ..., dn)\n",
    "Random values.\n",
    "    Create an array of the given shape and populate it with random samples from a uniform distribution over `` [0, 1) ``.\n",
    "Ref: https://docs.scipy.org/doc/numpy-1.13.0/reference/generated/numpy.random.rand.html#numpy.random.rand \n",
    "\n",
    "This function takes in either an integer value or empty value, if you only put in one value it returns one random number as a float value. If you pass an argument integer value to this function such as 100 it will return an array (numpy.ndarray) of 100 float values at random in the range 0 to 1 excluding 1. \n",
    "\n",
    "\n",
    "\n",
    "\n",
    "\n",
    "2.\tUniform\n",
    "Parameters:\tlow : float or arraylike of floats, optional\n",
    "Lower boundary of the output interval. All values generated will be greater than or equal to low. The default value is 0.\n",
    "high : float or arraylike of floats\n",
    "Upper boundary of the output interval. All values generated will be less than high. The default value is 1.0.\n",
    "size : int or tuple of ints, optional\n",
    "Output shape. If the given shape is, e.g., (m, n, k), then m * n * k samples are drawn. If size is None (default), a single value is returned if low and high are both scalars. Otherwise, np.broadcast(low, high).size samples are drawn.\n",
    "Returns:\tout : ndarray or scalar\n",
    "Drawn samples from the parameterized uniform distribution.\n",
    "\n",
    "Ref: https://docs.scipy.org/doc/numpy-1.15.1/reference/generated/numpy.random.uniform.html#numpy.random.uniform , https://www.statisticshowto.datasciencecentral.com/uniform-distribution/ \n",
    "\n",
    "The second function I will be researching here is the uniform function. This function allows for more input parameters such as the lower values, the higher values and the size. When the user inputs values for the low and high, if the higher value is lower than the low value the function will switch these values and still run, so it is not a good idea to rely on this function if you are relying on the inequality condition. \n",
    "A uniform distribution, also called a rectangular distribution, is a probability distribution that has constant probability.\n",
    "\n",
    "\n",
    "\n",
    "\n",
    "\n",
    "\n",
    "\n",
    "\n",
    "3.\tNormal\n",
    "Parameters:\tloc : float or array_like of floats\n",
    "Mean (“centre”) of the distribution.\n",
    "scale : float or array_like of floats\n",
    "Standard deviation (spread or “width”) of the distribution.\n",
    "size : int or tuple of ints, optional\n",
    "Output shape. If the given shape is, e.g., (m, n, k), then m * n * k samples are drawn. If size is None (default), a single value is returned if loc and scale are both scalars. Otherwise, np.broadcast(loc, scale).size samples are drawn.\n",
    "Returns:\tout : ndarray or scalar\n",
    "Drawn samples from the parameterized normal distribution.\n",
    "\n",
    "The normal function found in NumPy states Draw random samples from a normal (Gaussian) distribution. this function takes in 3 inputs: loc (mean), scale (Standard Deviation) and the size. Returning a scaler graphical representation of what is commonly referred to as the bell curve.\n",
    " ref: https://en.wikipedia.org/wiki/Normal_distribution\n",
    "\n",
    "\n",
    "\n",
    "\n",
    "\n",
    "\n",
    "\n",
    "\n",
    "\n",
    "\n",
    "\n",
    "\n",
    "\n",
    "4.\tRandint\n",
    "Parameters:\tlow : int\n",
    "Lowest (signed) integer to be drawn from the distribution (unless high=None, in which case this parameter is one above the highest such integer).\n",
    "high : int, optional\n",
    "If provided, one above the largest (signed) integer to be drawn from the distribution (see above for behavior if high=None).\n",
    "size : int or tuple of ints, optional\n",
    "Output shape. If the given shape is, e.g., (m, n, k), then m * n * k samples are drawn. Default is None, in which case a single value is returned.\n",
    "dtype : dtype, optional\n",
    "Desired dtype of the result. All dtypes are determined by their name, i.e., ‘int64’, ‘int’, etc, so byteorder is not available and a specific precision may have different C types depending on the platform. The default value is ‘np.int’.\n",
    "New in version 1.11.0.\n",
    "Returns:\tout : int or ndarray of ints\n",
    "size-shaped array of random integers from the appropriate distribution, or a single such random int if size not provided.\n",
    "\t\n",
    "\n",
    "ref: https://docs.scipy.org/doc/numpy-1.15.1/reference/generated/numpy.random.randint.html#numpy.random.randint \n",
    "randint is very similar to rand however, it only returns value in integer format. This function can take up to 4 inputs, the low, high, size and dtype. for the dtype it is optional and can specify what the data type of the integers you want back, int64 or int etc.\n",
    "\n",
    "\n",
    "\n",
    "\n",
    "\n",
    "\n",
    "5.\tPower\n",
    "a : float or array_like of floats\n",
    "Parameter of the distribution. Should be greater than zero.\n",
    "size : int or tuple of ints, optional\n",
    "Output shape. If the given shape is, e.g., (m, n, k), then m * n * k samples are drawn. If size is None (default), a single value is returned if a is a scalar. Otherwise, np.array(a).size samples are drawn.\n",
    "Returns:\tout : ndarray or scalar\n",
    "Drawn samples from the parameterized power distribution.\n",
    "Raises:\tValueError\n",
    "If a < 1.\n",
    "\n",
    "ref: https://docs.scipy.org/doc/numpy-1.15.1/reference/generated/numpy.random.power.html#numpy.random.power\n",
    "The power distribution of the random dependency takes 2 parameters, a being the size of the distribution which is a float value, and the samples value. The greater the number of samples the smoother the curve will be. \n",
    "adapted from: \n",
    "https://docs.scipy.org/doc/numpy-1.15.0/reference/generated/numpy.random.power.html#numpy.random.power \n",
    "https://en.wikipedia.org/wiki/Pareto_principle \n",
    "https://en.wikipedia.org/wiki/Power_law \n",
    "\n",
    "Including some examples of the power function are https://en.wikipedia.org/wiki/Initial_mass_function \n",
    "\n",
    "\n",
    "\n",
    "\n",
    "\n",
    "6.\tPoisson\n",
    "\n",
    "Parameters:\tlam : float or array_like of floats\n",
    "Expectation of interval, should be >= 0. A sequence of expectation intervals must be broadcastable over the requested size.\n",
    "size : int or tuple of ints, optional\n",
    "Output shape. If the given shape is, e.g., (m, n, k), then m * n * k samples are drawn. If size is None (default), a single value is returned if lam is a scalar. Otherwise, np.array(lam).size samples are drawn.\n",
    "Returns:\tout : ndarray or scalar\n",
    "Drawn samples from the parameterized Poisson distribution.\n",
    "\n",
    "The Poisson distribution may be useful to model events such as:\n",
    "\n",
    "    The number of meteorites greater than 1-meter diameter that strike Earth in a year\n",
    "    The number of patients arriving in an emergency room between 10 and 11 pm\n",
    "    The number of photons hitting a detector in a time interval\n",
    "    \n",
    "src: https://en.wikipedia.org/wiki/Poisson_distribution\n",
    "\n",
    "The poisson function in NumPy takes 2 values: \n",
    "    lam = Expected Interval value (float)\n",
    "    size = The shape that you want to be displayed.\n"
   ]
  },
  {
   "cell_type": "markdown",
   "metadata": {},
   "source": [
    "END"
   ]
  }
 ],
 "metadata": {
  "kernelspec": {
   "display_name": "Python 3",
   "language": "python",
   "name": "python3"
  },
  "language_info": {
   "codemirror_mode": {
    "name": "ipython",
    "version": 3
   },
   "file_extension": ".py",
   "mimetype": "text/x-python",
   "name": "python",
   "nbconvert_exporter": "python",
   "pygments_lexer": "ipython3",
   "version": "3.6.5"
  }
 },
 "nbformat": 4,
 "nbformat_minor": 2
}
