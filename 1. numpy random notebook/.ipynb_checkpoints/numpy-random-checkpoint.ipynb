{
 "cells": [
  {
   "cell_type": "markdown",
   "metadata": {},
   "source": [
    "# The numpy.random package\n",
    "\n",
    "***\n",
    "![numpy logo](https://www.pytorchtutorial.com/wp-content/uploads/2018/07/numpy-logo.png)\n",
    "\n",
    "***\n"
   ]
  },
  {
   "cell_type": "markdown",
   "metadata": {},
   "source": [
    "Initial numpy random test on the rand function. The parameters that this function takes are integers, it can take as many dimensions as the user wishes generally only using 1 or 2 dimensions. Here I have generated 1000 random numbers using the rand function and it returns an array with 1000 random numbers between 0 and 1, including 0 but not 1. I have also graphed these numbers for a better visualization of how suedo random these numbers are.\n",
    "\n",
    "src: https://docs.scipy.org/doc/numpy-1.13.0/reference/routines.random.html"
   ]
  },
  {
   "cell_type": "code",
   "execution_count": 18,
   "metadata": {},
   "outputs": [],
   "source": [
    "import numpy as np"
   ]
  },
  {
   "cell_type": "code",
   "execution_count": 37,
   "metadata": {},
   "outputs": [
    {
     "data": {
      "text/plain": [
       "numpy.ndarray"
      ]
     },
     "execution_count": 37,
     "metadata": {},
     "output_type": "execute_result"
    }
   ],
   "source": [
    "x = np.random.rand(1000)\n",
    "# type(x)\n",
    "# help(np.random.rand)"
   ]
  },
  {
   "cell_type": "code",
   "execution_count": 27,
   "metadata": {},
   "outputs": [],
   "source": [
    "import matplotlib.pyplot as plt"
   ]
  },
  {
   "cell_type": "code",
   "execution_count": 28,
   "metadata": {},
   "outputs": [
    {
     "data": {
      "image/png": "[encoded data removed]",
      "text/plain": [
       "<Figure size 432x288 with 1 Axes>"
      ]
     },
     "metadata": {},
     "output_type": "display_data"
    }
   ],
   "source": [
    "plt.hist(x)\n",
    "plt.show()"
   ]
  },
  {
   "cell_type": "markdown",
   "metadata": {},
   "source": [
    "The second function I will be researching here is the uniform function. This function allows for more input parameters such as the lower values, the higher values and also the size. When the user inputs values for the low and high, if the higher value is lower than the low value the function will switch these values and still run, so it is not a good idea to rely on this function if you are relying on the inequality condition."
   ]
  },
  {
   "cell_type": "code",
   "execution_count": 9,
   "metadata": {},
   "outputs": [],
   "source": [
    "x = np.random.uniform(-1, 0, 1000)"
   ]
  },
  {
   "cell_type": "code",
   "execution_count": 11,
   "metadata": {},
   "outputs": [
    {
     "data": {
      "text/plain": [
       "(array([127.,  94., 102.,  98., 100.,  89., 102., 102.,  89.,  97.]),\n",
       " array([-9.98980500e-01, -8.99094281e-01, -7.99208062e-01, -6.99321842e-01,\n",
       "        -5.99435623e-01, -4.99549404e-01, -3.99663184e-01, -2.99776965e-01,\n",
       "        -1.99890746e-01, -1.00004527e-01, -1.18307340e-04]),\n",
       " <a list of 10 Patch objects>)"
      ]
     },
     "execution_count": 11,
     "metadata": {},
     "output_type": "execute_result"
    },
    {
     "data": {
      "image/png": "[encoded data removed]",
      "text/plain": [
       "<Figure size 432x288 with 1 Axes>"
      ]
     },
     "metadata": {},
     "output_type": "display_data"
    }
   ],
   "source": [
    "plt.hist(x)"
   ]
  },
  {
   "cell_type": "markdown",
   "metadata": {},
   "source": [
    "The normal function found in numpy states Draw random samples from a normal (Gaussian) distribution. this function takes in 3 inputs: loc (mean), scale(Standard Deviation) and the size. Returning a scaler graphical represention of what is commenly reffered to as the bell curve.\n",
    "ref: https://en.wikipedia.org/wiki/Normal_distribution\n"
   ]
  },
  {
   "cell_type": "code",
   "execution_count": 12,
   "metadata": {},
   "outputs": [],
   "source": [
    "x = np.random.normal(0.1, 1, 1000)"
   ]
  },
  {
   "cell_type": "code",
   "execution_count": 13,
   "metadata": {},
   "outputs": [
    {
     "data": {
      "text/plain": [
       "(array([  1.,  12.,  62., 132., 232., 246., 201.,  86.,  25.,   3.]),\n",
       " array([-3.36057534, -2.69922842, -2.0378815 , -1.37653458, -0.71518766,\n",
       "        -0.05384074,  0.60750618,  1.2688531 ,  1.93020002,  2.59154694,\n",
       "         3.25289386]),\n",
       " <a list of 10 Patch objects>)"
      ]
     },
     "execution_count": 13,
     "metadata": {},
     "output_type": "execute_result"
    },
    {
     "data": {
      "image/png": "[encoded data removed]",
      "text/plain": [
       "<Figure size 432x288 with 1 Axes>"
      ]
     },
     "metadata": {},
     "output_type": "display_data"
    }
   ],
   "source": [
    "plt.hist(x)"
   ]
  },
  {
   "cell_type": "markdown",
   "metadata": {},
   "source": [
    "# numpy randint"
   ]
  },
  {
   "cell_type": "markdown",
   "metadata": {},
   "source": [
    "randint is very similar to rand however, it only returns value in integer format. This function can take up to 4 inputs, the low, high, size and dtype. for the dtype it is optional and can specify what the data type of the integers you want back, int64 or int etc."
   ]
  },
  {
   "cell_type": "code",
   "execution_count": 14,
   "metadata": {},
   "outputs": [],
   "source": [
    "x = np.random.randint(1, 100, size=(10, 10))"
   ]
  },
  {
   "cell_type": "code",
   "execution_count": 15,
   "metadata": {},
   "outputs": [
    {
     "data": {
      "text/plain": [
       "([array([0., 1., 2., 1., 0., 0., 1., 0., 2., 3.]),\n",
       "  array([0., 1., 3., 0., 0., 1., 2., 0., 2., 1.]),\n",
       "  array([1., 1., 0., 1., 2., 1., 1., 1., 2., 0.]),\n",
       "  array([0., 2., 3., 0., 1., 1., 1., 0., 1., 1.]),\n",
       "  array([1., 0., 1., 3., 1., 1., 1., 2., 0., 0.]),\n",
       "  array([0., 2., 1., 0., 2., 1., 0., 2., 2., 0.]),\n",
       "  array([1., 0., 2., 0., 1., 0., 0., 1., 0., 5.]),\n",
       "  array([0., 1., 0., 3., 0., 2., 1., 1., 1., 1.]),\n",
       "  array([2., 0., 1., 1., 1., 0., 1., 2., 1., 1.]),\n",
       "  array([0., 1., 1., 1., 1., 0., 3., 1., 0., 2.])],\n",
       " array([ 1. , 10.8, 20.6, 30.4, 40.2, 50. , 59.8, 69.6, 79.4, 89.2, 99. ]),\n",
       " <a list of 10 Lists of Patches objects>)"
      ]
     },
     "execution_count": 15,
     "metadata": {},
     "output_type": "execute_result"
    },
    {
     "data": {
      "image/png": "[encoded data removed]",
      "text/plain": [
       "<Figure size 432x288 with 1 Axes>"
      ]
     },
     "metadata": {},
     "output_type": "display_data"
    }
   ],
   "source": [
    "plt.hist(x)"
   ]
  },
  {
   "cell_type": "markdown",
   "metadata": {},
   "source": [
    "# numpy random power"
   ]
  },
  {
   "cell_type": "markdown",
   "metadata": {},
   "source": [
    "The power distribution of the random dependency takes 2 parameters, a being the size of the distribution which is a float value, and the samples value. The greater the amount of samples the smoother the curve will be. \n",
    "adapted from: \n",
    "https://docs.scipy.org/doc/numpy-1.15.0/reference/generated/numpy.random.power.html#numpy.random.power\n",
    "https://en.wikipedia.org/wiki/Pareto_principle\n",
    "https://en.wikipedia.org/wiki/Power_law\n",
    "\n",
    "Including some examples of the power function are https://en.wikipedia.org/wiki/Initial_mass_function."
   ]
  },
  {
   "cell_type": "code",
   "execution_count": 28,
   "metadata": {},
   "outputs": [],
   "source": [
    "a = 6. # shape\n",
    "samples = 10000000\n",
    "s = np.random.power(a, samples)"
   ]
  },
  {
   "cell_type": "code",
   "execution_count": 29,
   "metadata": {},
   "outputs": [
    {
     "data": {
      "image/png": "[encoded data removed]",
      "text/plain": [
       "<Figure size 432x288 with 1 Axes>"
      ]
     },
     "metadata": {},
     "output_type": "display_data"
    }
   ],
   "source": [
    "count, bins, ignored = plt.hist(s, bins=30)\n",
    "x = np.linspace(0, 1, 100)\n",
    "y = a*x**(a-1.)\n",
    "normed_y = samples*np.diff(bins)[0]*y\n",
    "plt.plot(x, normed_y)\n",
    "plt.show()"
   ]
  },
  {
   "cell_type": "markdown",
   "metadata": {},
   "source": [
    "# numpy.random.poisson"
   ]
  },
  {
   "cell_type": "markdown",
   "metadata": {},
   "source": [
    "The Poisson distribution may be useful to model events such as:\n",
    "\n",
    "    The number of meteorites greater than 1 meter diameter that strike Earth in a year\n",
    "    The number of patients arriving in an emergency room between 10 and 11 pm\n",
    "    The number of photons hitting a detector in a particular time interval\n",
    "    \n",
    "src: https://en.wikipedia.org/wiki/Poisson_distribution\n",
    "\n",
    "The poisson function in numpy takes 2 values: \n",
    "    lam = Expected Interval value (float)\n",
    "    size = The shape that you want to be displayed."
   ]
  },
  {
   "cell_type": "code",
   "execution_count": 34,
   "metadata": {},
   "outputs": [],
   "source": [
    "import numpy as np\n",
    "s = np.random.poisson(5, 10000)"
   ]
  },
  {
   "cell_type": "code",
   "execution_count": 35,
   "metadata": {},
   "outputs": [
    {
     "data": {
      "image/png": "[encoded data removed]",
      "text/plain": [
       "<Figure size 432x288 with 1 Axes>"
      ]
     },
     "metadata": {},
     "output_type": "display_data"
    }
   ],
   "source": [
    "import matplotlib.pyplot as plt\n",
    "count, bins, ignored = plt.hist(s, 14, density=True)\n",
    "plt.show()"
   ]
  },
  {
   "cell_type": "code",
   "execution_count": 38,
   "metadata": {},
   "outputs": [
    {
     "data": {
      "image/png": "[encoded data removed]",
      "text/plain": [
       "<Figure size 432x288 with 1 Axes>"
      ]
     },
     "metadata": {},
     "output_type": "display_data"
    }
   ],
   "source": [
    "s = np.random.poisson(lam=(100., 500.), size=(100, 2))\n",
    "count, bins, ignored = plt.hist(s, 14, density=True)\n",
    "plt.show()"
   ]
  },
  {
   "cell_type": "markdown",
   "metadata": {},
   "source": [
    "END"
   ]
  }
 ],
 "metadata": {
  "kernelspec": {
   "display_name": "Python 3",
   "language": "python",
   "name": "python3"
  },
  "language_info": {
   "codemirror_mode": {
    "name": "ipython",
    "version": 3
   },
   "file_extension": ".py",
   "mimetype": "text/x-python",
   "name": "python",
   "nbconvert_exporter": "python",
   "pygments_lexer": "ipython3",
   "version": "3.6.5"
  }
 },
 "nbformat": 4,
 "nbformat_minor": 2
}
