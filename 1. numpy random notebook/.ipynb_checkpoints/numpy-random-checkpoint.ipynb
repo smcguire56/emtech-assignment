{
 "cells": [
  {
   "cell_type": "markdown",
   "metadata": {},
   "source": [
    "# The numpy.random package"
   ]
  },
  {
   "cell_type": "markdown",
   "metadata": {},
   "source": [
    "Initial numpy random test on the rand function. The parameters that this function takes are integers, it can take as many dimensions as the user wishes generally only using 1 or 2 dimensions. Here I have generated 1000 random numbers using the rand function and it returns an array with 1000 random numbers between 0 and 1, including 0 but not 1. I have also graphed these numbers for a better visualization of how suedo random these numbers are."
   ]
  },
  {
   "cell_type": "code",
   "execution_count": 9,
   "metadata": {},
   "outputs": [],
   "source": [
    "import numpy as np"
   ]
  },
  {
   "cell_type": "code",
   "execution_count": 10,
   "metadata": {},
   "outputs": [],
   "source": [
    "x = np.random.rand(1000)"
   ]
  },
  {
   "cell_type": "code",
   "execution_count": 11,
   "metadata": {},
   "outputs": [],
   "source": [
    "import matplotlib.pyplot as plt"
   ]
  },
  {
   "cell_type": "code",
   "execution_count": 12,
   "metadata": {},
   "outputs": [
    {
     "data": {
      "image/png": "[encoded data removed]",
      "text/plain": [
       "<Figure size 432x288 with 1 Axes>"
      ]
     },
     "metadata": {},
     "output_type": "display_data"
    }
   ],
   "source": [
    "plt.hist(x)\n",
    "plt.show()"
   ]
  },
  {
   "cell_type": "markdown",
   "metadata": {},
   "source": [
    "The second function I will be researching here is the uniform function. This function allows for more input parameters such as the lower values, the higher values and also the size. When the user inputs values for the low and high, if the higher value is lower than the low value the function will switch these values and still run, so it is not a good idea to rely on this function if you are relying on the inequality condition."
   ]
  },
  {
   "cell_type": "code",
   "execution_count": 13,
   "metadata": {},
   "outputs": [],
   "source": [
    "x = np.random.uniform(-1, 0, 10)"
   ]
  },
  {
   "cell_type": "code",
   "execution_count": 14,
   "metadata": {},
   "outputs": [
    {
     "data": {
      "text/plain": [
       "(array([3., 1., 1., 1., 0., 1., 0., 0., 2., 1.]),\n",
       " array([-0.89913741, -0.8181096 , -0.73708179, -0.65605397, -0.57502616,\n",
       "        -0.49399834, -0.41297053, -0.33194272, -0.2509149 , -0.16988709,\n",
       "        -0.08885927]),\n",
       " <a list of 10 Patch objects>)"
      ]
     },
     "execution_count": 14,
     "metadata": {},
     "output_type": "execute_result"
    },
    {
     "data": {
      "image/png": "[encoded data removed]",
      "text/plain": [
       "<Figure size 432x288 with 1 Axes>"
      ]
     },
     "metadata": {},
     "output_type": "display_data"
    }
   ],
   "source": [
    "plt.hist(x)"
   ]
  },
  {
   "cell_type": "markdown",
   "metadata": {},
   "source": [
    "The normal function found in numpy states Draw random samples from a normal (Gaussian) distribution. this function takes in 3 inputs: loc (mean), scale(Standard Deviation) and the size. Returning a scaler graphical represention of what is commenly reffered to as the bell curve.\n",
    "ref: https://en.wikipedia.org/wiki/Normal_distribution\n"
   ]
  },
  {
   "cell_type": "code",
   "execution_count": 15,
   "metadata": {},
   "outputs": [
    {
     "data": {
      "text/plain": [
       "array([ 6.43000222e-02,  2.66418579e-01,  6.87110758e-01, -1.44057318e+00,\n",
       "        1.65629482e+00, -9.00090932e-01,  5.45274212e-01,  4.50650531e-02,\n",
       "       -7.56952275e-02, -5.64840756e-02, -1.89064413e+00, -1.19713882e+00,\n",
       "       -4.05512843e-02, -6.19351992e-01,  3.60648513e-02,  8.97840518e-01,\n",
       "        1.53753171e+00, -2.35789475e-01, -4.07276182e-01,  3.54369565e-01,\n",
       "        7.54442135e-01, -6.31029961e-01, -1.27249194e+00, -1.71189161e+00,\n",
       "        1.77578963e+00,  1.19158351e+00, -2.06375029e+00,  6.88855691e-01,\n",
       "        3.74612234e-01, -4.05566183e-01,  1.37126984e+00,  9.31588039e-01,\n",
       "       -7.04264746e-01,  5.45907206e-01,  3.78293708e-01, -7.23495801e-01,\n",
       "       -1.52377667e+00,  1.15905626e+00,  2.62240134e-01, -5.32091132e-01,\n",
       "       -2.95548205e-01,  5.28338106e-01,  2.03934566e+00,  1.38292904e+00,\n",
       "        3.54475764e-01, -1.78882456e+00, -4.78933798e-01,  2.74459854e-01,\n",
       "        9.72712326e-01,  2.99744300e-02,  7.67783024e-01, -8.33906476e-01,\n",
       "        4.42993055e-01,  1.04243922e-01, -6.88623106e-01, -1.24789303e-02,\n",
       "        1.85929596e-01, -1.16212398e+00, -3.17385136e-01,  2.19736897e-01,\n",
       "        1.40917879e+00,  9.93957977e-01,  8.65919491e-01,  1.45128938e+00,\n",
       "       -5.36221536e-01, -1.41147952e+00,  1.23937199e+00,  1.38167880e+00,\n",
       "        4.97500701e-01,  2.82244362e-01,  8.51986257e-01, -3.85059546e-01,\n",
       "       -7.04950912e-01,  1.16298770e-01, -5.98004722e-01,  1.77521969e+00,\n",
       "       -2.94087133e-01,  3.81664285e-01, -1.38028112e+00, -5.60192900e-01,\n",
       "       -1.62786447e+00,  1.83849542e+00, -1.23950831e+00, -2.02690065e+00,\n",
       "       -7.89140383e-01, -3.47481513e-02, -7.04706716e-01,  1.76020087e-01,\n",
       "        1.50339228e+00, -1.02686672e-01, -4.70063637e-01, -1.81594427e+00,\n",
       "        8.58329085e-01, -1.66689060e-01,  5.29168711e-02, -1.16629034e-01,\n",
       "        2.23959226e+00,  3.39829953e-02,  1.14460711e+00, -3.64555145e-01,\n",
       "        1.06994331e+00, -1.96181202e+00, -8.13845053e-03,  9.78951346e-01,\n",
       "        6.77318359e-01,  4.71817663e-02,  1.17599474e+00, -6.72015954e-01,\n",
       "        1.66734244e+00,  1.50436092e+00,  2.36757667e+00, -6.52658602e-01,\n",
       "        3.67554699e-01, -1.94569643e+00,  1.81883778e-01,  3.47424504e-01,\n",
       "        1.67606449e+00,  1.56866356e+00, -9.51791347e-01,  6.31902362e-01,\n",
       "       -1.28177836e+00, -9.85420106e-01, -9.95060719e-01, -1.61741112e+00,\n",
       "        5.76554851e-01,  5.43550205e-01, -8.81054186e-01,  1.17398633e+00,\n",
       "        1.49451358e+00,  1.24424789e+00, -5.76289187e-01, -8.36790853e-02,\n",
       "        8.61099045e-01,  7.80197848e-01, -7.01820577e-01, -1.49192002e+00,\n",
       "        1.84749966e+00,  4.38628883e-01,  1.68473053e-01, -1.66599183e+00,\n",
       "       -1.67632165e-02, -4.81121503e-01,  4.69124993e-01, -2.49896157e-01,\n",
       "       -2.34942184e-01,  1.43105794e-01,  1.44978358e-01,  4.17883329e-01,\n",
       "       -9.02574268e-01,  2.72241627e-01, -2.43522885e-01, -7.39756583e-01,\n",
       "       -6.81437611e-01, -7.56376827e-01,  3.11663809e-01,  4.75452118e-01,\n",
       "       -1.72884923e+00,  1.08040340e+00,  3.72882988e-01, -5.04363432e-01,\n",
       "        5.48382102e-01, -3.42730719e-01,  1.50207956e+00,  5.30529583e-01,\n",
       "       -1.87591513e-02,  5.35851975e-01,  1.53799915e+00, -9.02714368e-02,\n",
       "        5.58527359e-01,  6.25766131e-02, -2.15569419e+00, -1.60670714e+00,\n",
       "       -4.80609624e-01,  2.58506555e-01, -9.43770284e-01, -9.66243331e-01,\n",
       "        3.40862282e-02, -5.24621687e-01, -1.39316883e+00,  2.05625659e+00,\n",
       "       -1.48229354e+00, -1.52252885e+00,  3.35411758e-01,  1.86460128e+00,\n",
       "       -1.59471512e+00,  1.66648627e+00,  3.17107530e+00,  1.02840152e+00,\n",
       "        2.92707970e+00, -4.68612547e-01, -1.16500185e+00, -1.81191976e+00,\n",
       "        8.47065462e-01,  1.31894005e+00,  3.70287181e-02,  2.45816282e-01,\n",
       "       -4.06094869e-01, -1.00899557e+00,  4.53815668e-01, -1.16033378e+00,\n",
       "        1.31134219e+00, -6.60958366e-01,  1.68916060e+00, -6.52449953e-01,\n",
       "        4.07271412e-01, -1.47348726e-02,  1.59409024e+00,  9.23168455e-02,\n",
       "        8.73640315e-01, -2.98272036e-01, -1.00975283e+00, -1.16259478e-01,\n",
       "       -8.26878013e-01,  3.66534831e-02, -3.42447207e-01,  1.29692416e+00,\n",
       "       -5.92834787e-01, -1.41695720e+00, -1.63058780e-01, -1.91883846e+00,\n",
       "        2.85939635e-01,  4.26071642e-02, -1.28932733e+00, -9.86691243e-02,\n",
       "       -1.60103092e+00,  7.13473895e-01, -2.30422995e+00,  9.67167613e-01,\n",
       "        4.34511259e-01, -1.35932261e-01,  1.29037846e+00,  6.33048679e-01,\n",
       "        3.99935342e-01, -4.86611421e-01, -9.53185179e-02,  1.80125596e+00,\n",
       "       -7.83568694e-01, -6.11355306e-01,  4.79102710e-01, -4.84535513e-01,\n",
       "        1.70744405e+00, -1.13694070e-01,  2.32181706e-01,  4.63800375e-01,\n",
       "        1.73561241e+00, -3.47329732e-01,  1.05007153e+00, -6.18425360e-01,\n",
       "        5.40154923e-01,  2.25411175e-01,  1.01349932e+00, -6.80871885e-01,\n",
       "        4.33426052e-01,  8.83945531e-01, -2.45502947e-01,  1.04115312e+00,\n",
       "        1.68466631e+00,  5.36663302e-01,  9.25217385e-01, -1.41255539e+00,\n",
       "        2.76541918e-01, -9.36054129e-01,  2.13627254e+00,  1.60773990e+00,\n",
       "       -7.38778334e-01, -1.60807577e-01,  5.02351022e-02,  3.30003596e-01,\n",
       "        1.80500690e+00, -4.25024753e-01, -8.26848545e-01, -1.62413619e+00,\n",
       "       -9.40378380e-01, -1.48201735e+00,  5.98505460e-01,  7.92257573e-02,\n",
       "       -4.55762301e-01, -3.51444286e-01, -4.63335484e-01,  2.71933190e-01,\n",
       "       -4.82998712e-01,  7.75753877e-01,  1.49128007e-01, -1.51937911e+00,\n",
       "       -1.11749401e+00, -4.06749967e-01,  3.24206023e-01, -8.77491166e-02,\n",
       "       -1.43096510e+00,  1.94372963e+00, -2.68313780e-01, -6.65910840e-01,\n",
       "       -3.77099001e-01, -1.56826417e+00,  1.75609894e-01, -1.04880988e+00,\n",
       "        6.17819901e-01,  1.21836489e+00,  2.38945485e-01, -8.84803731e-01,\n",
       "       -9.90866612e-02, -6.36736170e-02, -3.45927813e-01, -1.15034346e+00,\n",
       "       -2.75202883e+00, -2.77557715e-02, -3.02470179e-02,  1.33516933e-01,\n",
       "        4.87142989e-01,  1.51290145e-01, -6.80308318e-02, -1.21470617e+00,\n",
       "       -6.65676804e-01, -1.11826268e+00,  7.13043679e-01, -1.26865385e+00,\n",
       "       -1.29956138e+00, -3.00909608e-01,  5.45001382e-01, -3.13542884e-01,\n",
       "        1.54286087e-01, -6.33491078e-01, -6.61317705e-01, -4.88428626e-01,\n",
       "        2.44189405e+00, -2.11347266e+00, -9.88516756e-02, -2.56885757e+00,\n",
       "       -3.70090895e-01, -1.27043291e+00, -2.33398257e+00, -1.71902139e-01,\n",
       "       -4.94499651e-01, -7.53233668e-01,  5.39699157e-01, -1.15462385e+00,\n",
       "        6.16024041e-01, -1.11199928e+00,  4.05271235e-01,  5.51249773e-01,\n",
       "        2.15083512e+00, -2.54908082e-01,  8.58989844e-01, -9.62145254e-01,\n",
       "        2.85277769e-02,  4.41769486e-01,  6.95615681e-01,  1.14447600e-01,\n",
       "        3.01479776e-01,  8.26038483e-01, -1.49797727e+00, -9.55303474e-01,\n",
       "       -2.12216945e-02,  1.99681077e+00,  4.92124879e-02,  2.03602298e+00,\n",
       "       -4.67337169e-01, -2.50176481e-01,  1.30455695e+00, -8.24613198e-01,\n",
       "       -1.31534296e-01,  7.10563139e-02, -1.10144159e+00,  2.69129482e-01,\n",
       "        2.87074450e-01,  8.32750829e-01, -3.27049346e-01, -3.33331990e-02,\n",
       "        1.21973193e+00,  1.10798457e+00,  4.00606456e-01,  6.52313992e-02,\n",
       "       -4.96985263e-01,  1.82895483e+00, -4.78581042e-01, -1.26266451e-01,\n",
       "       -3.62328253e-01, -4.16205721e-01, -3.97884341e-01,  1.97341328e+00,\n",
       "        1.58101467e-01,  1.79880134e+00,  9.74427975e-01, -1.99526689e-01,\n",
       "       -1.78171298e-01, -2.52339077e-01, -1.02343681e+00, -6.55575676e-02,\n",
       "       -9.47897074e-01, -1.12858054e+00,  4.00866978e-01, -6.82911391e-02,\n",
       "        1.69417760e+00, -5.78004717e-01, -4.46950843e-01,  4.20325915e-01,\n",
       "        7.82489567e-01,  1.83639649e+00, -8.94719496e-01,  6.61897401e-01,\n",
       "        9.24640810e-01, -1.00946930e+00,  9.99025339e-02, -2.75300985e+00,\n",
       "        3.09738089e-01, -6.98226675e-01, -2.17692582e-01,  7.98247460e-01,\n",
       "       -2.14484836e-01,  5.19061959e-01,  1.09873339e-01,  1.24596529e+00,\n",
       "       -2.58752488e-02,  1.26949664e+00,  1.13490641e-01, -3.58132880e-02,\n",
       "        1.46876497e+00,  1.11665599e+00, -1.12919798e+00,  8.37585034e-02,\n",
       "        8.38937904e-01,  1.96982471e+00, -1.05602338e+00, -5.47161610e-01,\n",
       "       -2.21756611e+00, -1.36035003e+00,  5.94491184e-01, -1.39827032e+00,\n",
       "        2.29369586e-01,  7.17032867e-01, -1.47551667e-01, -1.29245159e+00,\n",
       "       -1.39429057e+00, -7.79938458e-01,  9.70097235e-01, -2.54572658e+00,\n",
       "        5.05631624e-01,  5.89447948e-02,  5.95878997e-01, -1.97265748e-01,\n",
       "        1.61592394e+00,  3.17177297e-01,  1.60353606e+00,  9.19212640e-03,\n",
       "        9.16419359e-02, -8.04338749e-01, -4.72384554e-01,  1.64947312e+00,\n",
       "       -1.75785894e+00, -7.99803864e-01, -1.48021134e+00, -6.60691067e-01,\n",
       "       -2.76324572e-01,  3.84353331e-01,  1.05452690e+00, -2.24624587e-01,\n",
       "        1.38088574e+00, -1.65775673e+00,  6.18851181e-01,  6.65185226e-02,\n",
       "        4.75627380e-01, -4.21402797e-01, -9.46102118e-01,  6.05492336e-01,\n",
       "        4.70529118e-01,  7.13858927e-01, -5.29399366e-01,  5.26860576e-01,\n",
       "       -5.64132338e-01, -3.28370108e-01, -4.33234435e-01, -9.45068068e-01,\n",
       "       -2.04266980e+00,  2.42633379e-01,  2.17423078e+00, -1.11335599e+00,\n",
       "       -7.21716033e-01,  1.72843019e-02, -7.55080927e-02,  4.22323091e-01,\n",
       "        1.83604928e+00, -9.62307250e-01,  1.81214964e-01, -8.99578383e-01,\n",
       "       -1.29041546e+00, -6.66698730e-01,  3.49294782e-01,  6.23615628e-01,\n",
       "       -6.16892166e-01, -1.49097038e-01,  7.76688874e-01,  1.22856488e+00,\n",
       "       -1.93671943e+00,  2.27993496e+00, -1.43822073e+00, -8.26178144e-01,\n",
       "        9.51064788e-01, -2.72677952e-01,  1.02352744e+00, -1.09475057e-01,\n",
       "        8.21263270e-01, -5.83899026e-01,  1.91839316e+00,  1.97938809e+00,\n",
       "       -1.28042520e+00, -1.15453319e+00, -3.51660365e-01, -2.68331177e+00,\n",
       "       -8.04999717e-01,  1.80716423e-01, -3.90097916e-01,  1.28771873e-01,\n",
       "        7.98314493e-01,  6.14374669e-02, -3.14878390e-01,  5.60213974e-01,\n",
       "       -4.25092689e-01, -1.30028494e+00,  9.94505529e-01, -2.50272020e-01,\n",
       "        2.04403967e+00,  5.92768678e-01, -9.48508822e-01,  5.98180079e-01,\n",
       "       -8.26090345e-01, -5.56187495e-01, -1.96075550e+00, -1.30321073e+00,\n",
       "        5.54651957e-01,  6.21939936e-02, -5.60823629e-01,  1.83502265e+00,\n",
       "       -8.73542015e-02, -1.01906526e+00, -2.73959335e-03, -8.12379924e-01,\n",
       "        4.79232893e-01, -9.44969373e-02, -1.48238394e+00,  5.82085224e-01,\n",
       "        2.21981763e+00, -2.71968265e-01,  1.27751423e+00,  1.86313364e+00,\n",
       "       -3.36563441e-01, -4.90377519e-01, -1.95699409e-01,  2.28745579e-01,\n",
       "       -1.33541345e+00, -1.35374572e-01,  1.98479795e+00,  6.75896843e-01,\n",
       "        1.29628427e+00,  1.92789353e+00, -2.29455572e+00, -1.54046854e+00,\n",
       "        2.60869843e-01, -1.58794691e+00, -4.77232017e-01, -1.15701120e+00,\n",
       "       -8.56890077e-01, -2.10125581e-01,  6.96390328e-01, -5.88522609e-01,\n",
       "       -9.66146206e-01,  4.22332050e-01,  1.96459210e-01, -1.64346728e+00,\n",
       "        1.71051446e+00, -4.55765127e-02,  1.43429214e+00, -4.88930456e-01,\n",
       "        1.17776079e+00,  6.18598179e-01,  2.47533447e-01,  3.16441291e-02,\n",
       "       -1.19132157e+00,  1.13780440e+00,  1.75598699e+00,  1.41396686e+00,\n",
       "        4.32379477e-01, -2.40586807e+00, -5.16692007e-01,  8.92423729e-02,\n",
       "        1.27919352e+00, -5.34025150e-01,  2.20623974e+00,  2.06222009e-01,\n",
       "       -9.59974757e-01,  6.39006083e-02, -1.84812530e-01, -2.67102893e-01,\n",
       "       -4.98858420e-01,  9.42848308e-01, -1.24889446e+00,  1.97546811e+00,\n",
       "       -8.47638721e-01, -1.04607351e+00,  2.12823042e+00, -1.37158898e+00,\n",
       "       -6.43750794e-01,  8.36964192e-01,  5.14657892e-02, -2.73133186e+00,\n",
       "       -4.54293640e-01,  5.94508859e-01, -8.52492496e-01, -1.14543612e+00,\n",
       "       -1.32297045e-01,  9.88805598e-02,  1.65467306e+00,  1.46146136e-01,\n",
       "       -6.22637590e-01,  6.30126274e-01,  4.53495287e-01,  1.08384286e+00,\n",
       "       -4.49180228e-01,  2.91483903e-01, -2.56254779e+00, -7.43752431e-01,\n",
       "       -1.22193933e+00, -5.52112776e-01,  9.80741604e-02, -3.63784764e-01,\n",
       "        2.18974441e-01,  7.95267628e-01,  1.18562060e+00, -7.59405063e-01,\n",
       "        1.16416634e+00, -1.01020813e+00,  1.95070585e+00, -7.67573927e-01,\n",
       "       -1.01328455e+00,  3.30586756e-02,  9.70760437e-01, -3.14895725e-01,\n",
       "       -7.57491958e-01,  1.10075392e-01, -1.71177793e+00, -1.98337891e+00,\n",
       "       -6.43485528e-01, -4.91771165e-01, -5.81369504e-01,  9.83762615e-01,\n",
       "       -1.11630955e+00,  8.39755742e-01,  2.58253145e+00, -1.15955224e+00,\n",
       "        4.30619330e-01, -1.61872803e-01, -1.91787962e+00,  6.70816531e-01,\n",
       "        5.70587699e-02,  1.01767654e+00,  5.16283269e-01,  8.57022929e-02,\n",
       "        5.07578111e-01,  3.10864435e-01, -1.79777841e+00,  8.36121145e-01,\n",
       "        8.42275754e-01,  8.50226394e-01, -2.53674596e-01, -1.98761824e+00,\n",
       "        9.84277736e-01,  1.14077137e-01, -1.08894300e+00, -1.71691124e+00,\n",
       "       -2.06323470e-01,  1.02995156e+00,  5.90105252e-01,  4.61441694e-02,\n",
       "        2.39391191e-01,  1.19253643e+00,  1.71963930e+00, -9.44174219e-01,\n",
       "        1.88690793e+00,  8.84790507e-01, -1.21507734e+00, -1.72773349e-01,\n",
       "       -1.16095526e+00,  1.42765848e+00,  7.71187011e-02, -1.11235604e+00,\n",
       "        7.61748532e-01, -5.37143234e-01,  2.10051316e+00, -1.53645622e-01,\n",
       "       -4.22763628e-01,  1.68252359e-01,  9.43690185e-01,  5.57486071e-01,\n",
       "        1.02137791e-02, -5.88828770e-01, -1.12905521e-01, -5.18436549e-01,\n",
       "        1.45920515e-01,  8.11392064e-01,  1.90487455e+00,  1.17220806e+00,\n",
       "        5.37494401e-01, -1.11997549e+00, -1.37180787e-01,  8.57952820e-01,\n",
       "        7.49884343e-01, -4.24943460e-01,  5.59490937e-01, -1.23027179e+00,\n",
       "       -5.95786609e-01, -4.78677313e-01, -8.79312175e-01,  6.18419987e-01,\n",
       "        7.91158822e-01,  1.37436988e+00, -1.69599338e+00,  2.27455164e-01,\n",
       "       -5.76509462e-01, -5.87667457e-01, -1.04644837e+00, -7.52036711e-01,\n",
       "       -2.54641094e-01, -9.91246936e-01,  4.77813784e-01,  7.73628924e-01,\n",
       "       -8.02852305e-01, -2.19988877e+00, -1.80477007e+00, -4.40065647e-02,\n",
       "       -6.37423552e-01, -1.41051443e-01,  1.04616075e+00,  4.44168645e-02,\n",
       "       -1.05037787e+00, -1.17182505e+00,  1.00261575e+00,  8.40623441e-01,\n",
       "       -2.72857422e-01, -3.67445659e-02,  7.51207765e-01, -1.70424775e+00,\n",
       "       -1.16612925e+00, -1.10685313e+00, -1.12177689e+00,  2.54615586e-01,\n",
       "        5.08972654e-01, -3.84610818e-01, -3.56641907e-03,  4.88014158e-01,\n",
       "       -7.38776727e-01,  3.79683709e-01, -4.53728513e-01, -9.66772918e-01,\n",
       "        5.43763817e-01, -1.78265430e-01, -2.08856877e+00,  1.65960867e-01,\n",
       "        2.63004848e-01, -6.44628725e-01, -6.00727475e-01, -6.07078957e-01,\n",
       "        1.32890964e+00,  1.55284895e+00, -7.59747525e-02,  2.42649057e+00,\n",
       "       -1.07471667e+00, -1.13264153e+00,  9.33646668e-01, -9.83011645e-01,\n",
       "       -3.94458866e-01,  9.72941114e-01,  5.74170796e-02,  8.93520147e-01,\n",
       "        2.12704505e+00,  3.59638366e-01, -1.52637871e-01,  2.12813064e-01,\n",
       "       -8.75034906e-02, -9.29468037e-01, -1.33780724e+00, -1.72162883e+00,\n",
       "       -1.46058890e+00,  1.53271338e+00,  7.24373876e-01, -7.26415131e-01,\n",
       "       -1.46874086e-01, -3.36529456e-01, -4.51629513e-01,  1.54805478e+00,\n",
       "       -3.22479176e-02,  3.52822785e-01,  5.30775799e-01,  1.59582140e+00,\n",
       "        1.10782208e+00,  6.03863030e-01, -6.68097436e-02, -6.84986896e-03,\n",
       "        5.97853922e-01, -1.66528116e+00,  2.68311629e-02, -5.76237131e-01,\n",
       "        7.86202471e-01, -8.11129767e-01, -1.82711513e+00, -6.85190185e-01,\n",
       "        4.36625827e-01, -3.18957643e-01,  1.97895887e+00, -4.48685000e-01,\n",
       "       -2.11448721e-01, -1.66494316e+00, -2.99382931e-01,  1.92920919e-01,\n",
       "       -4.43521727e-01, -1.87591427e-01,  1.66282898e+00,  1.69068887e+00,\n",
       "       -7.90736970e-01, -3.84386833e-01,  9.46742348e-01, -5.24376078e-01,\n",
       "       -4.61959804e-01,  7.61514567e-01, -1.11663247e-01, -6.89328355e-01,\n",
       "       -8.82681651e-01,  6.03418158e-01, -9.71570879e-01, -1.48103023e+00,\n",
       "        1.86276573e+00, -1.43336486e+00,  2.14963995e+00, -4.37346523e-01,\n",
       "        1.72876776e+00, -3.44021400e-01, -1.74199904e+00,  3.69502262e-01,\n",
       "       -8.68317267e-01,  6.29489623e-01,  7.77023661e-02,  1.20719249e+00,\n",
       "        1.63838699e+00,  1.50413109e+00,  4.57009744e-01,  6.58071417e-02,\n",
       "        6.03408694e-01,  1.66838227e+00,  2.52454962e-01, -3.58910142e-01,\n",
       "       -1.10804660e+00,  9.98363070e-01, -8.08236715e-02, -7.48570511e-01,\n",
       "       -4.27686680e-01,  1.61412938e-02,  2.91840022e-01,  3.59143399e-01,\n",
       "       -1.35065585e+00, -7.25128221e-01,  1.58407785e+00, -2.92568397e-01,\n",
       "       -5.94107363e-01,  2.38557905e+00, -3.91512219e-01, -5.39648219e-01,\n",
       "       -2.80749932e-01,  1.97288966e-02, -6.90629748e-01,  1.28038087e+00,\n",
       "        1.97312960e-01,  6.90031837e-01, -4.70007203e-01, -1.02974896e+00,\n",
       "       -3.53711858e-01,  3.78759954e-01,  3.94776682e-01, -3.84384748e-01,\n",
       "        5.36205217e-01, -5.73357557e-01,  3.53974310e-01, -4.05481549e-01,\n",
       "        1.95698976e+00, -3.52551386e-01, -8.28227606e-01,  8.00811801e-01,\n",
       "        1.48533901e+00, -3.83759657e-01,  1.88624210e-02,  5.13416450e-01,\n",
       "       -6.77498432e-01,  3.65286977e-01,  7.97933019e-01,  3.26737640e-01,\n",
       "       -9.60015663e-01, -1.12464758e+00, -9.99435223e-02, -4.08278979e-01,\n",
       "       -1.04863925e-01,  6.56696158e-01, -1.32931487e+00, -1.72460549e-01,\n",
       "       -9.90899642e-01,  1.45903071e+00,  1.05632505e+00, -4.07404409e-01,\n",
       "       -8.75532060e-02,  1.22301460e+00,  1.12472312e+00, -1.79253531e-01,\n",
       "       -1.70919743e-01, -1.54386945e+00, -5.04541620e-02,  1.38338843e+00,\n",
       "        1.39500738e-01, -1.13273360e+00, -9.48092691e-01,  2.98123804e-01,\n",
       "       -3.45201995e-01, -1.48021599e+00, -2.02834017e+00, -7.04872100e-01,\n",
       "        1.71317940e-01,  1.84108369e+00, -1.35920211e+00,  1.64625078e-01,\n",
       "       -4.46842332e-01, -3.60276004e-01, -9.25806435e-01, -5.98558352e-01,\n",
       "       -4.28758982e-01,  7.18186819e-01,  5.53469603e-01, -2.28945942e-01,\n",
       "        7.43041199e-01,  3.07040132e-01, -1.13507077e+00,  1.83299516e+00,\n",
       "        1.99688043e-01,  1.07301595e+00,  8.15634641e-01, -1.99131198e-01,\n",
       "        7.64160544e-01,  5.07579544e-01, -1.00263708e-01, -8.53219858e-01,\n",
       "       -7.39256072e-01,  3.70499853e-01,  4.24330652e-01, -3.75075810e-01,\n",
       "       -1.63607568e-01, -4.63069167e-01,  5.57371373e-01,  1.01207536e+00,\n",
       "        4.54657881e-01, -4.15700425e-01,  8.06174678e-01,  1.55354384e+00,\n",
       "       -9.52017934e-01,  9.56077434e-01, -2.57490211e+00, -4.86079223e-01,\n",
       "       -2.37744231e+00,  9.43871594e-02, -7.36800790e-01, -5.09977292e-01,\n",
       "        1.97327866e-01,  1.20747537e+00, -4.44768284e-01,  7.64061118e-01,\n",
       "       -2.19677087e+00,  3.04897097e-01,  2.36222682e-02, -1.73754044e+00,\n",
       "        7.74114378e-01,  1.18357193e+00,  4.99268933e-01, -6.53989527e-02,\n",
       "       -5.37098764e-01, -1.61841941e+00, -1.25162420e+00, -4.18356547e-01,\n",
       "        1.46241519e+00,  6.13414013e-01,  1.51150492e+00, -2.21209146e+00,\n",
       "        2.09899664e-01,  1.25295487e-01,  2.16565223e+00,  5.71920709e-02,\n",
       "        3.93438034e-01,  1.96722850e+00,  9.86254253e-01,  6.84125138e-01,\n",
       "       -3.05219429e-01, -9.21990827e-01, -1.20767885e+00,  1.23249267e+00,\n",
       "        3.44496982e-01, -3.01525239e-01, -9.29828630e-01,  1.25720559e-01])"
      ]
     },
     "execution_count": 15,
     "metadata": {},
     "output_type": "execute_result"
    }
   ],
   "source": [
    "x = np.random.normal(0.1, 1, 1000)\n",
    "x"
   ]
  },
  {
   "cell_type": "code",
   "execution_count": 16,
   "metadata": {},
   "outputs": [
    {
     "data": {
      "text/plain": [
       "(array([ 17.,  46., 102., 203., 231., 194., 106.,  77.,  21.,   3.]),\n",
       " array([-2.75300985, -2.16060134, -1.56819282, -0.97578431, -0.38337579,\n",
       "         0.20903272,  0.80144124,  1.39384975,  1.98625827,  2.57866678,\n",
       "         3.1710753 ]),\n",
       " <a list of 10 Patch objects>)"
      ]
     },
     "execution_count": 16,
     "metadata": {},
     "output_type": "execute_result"
    },
    {
     "data": {
      "image/png": "[encoded data removed]",
      "text/plain": [
       "<Figure size 432x288 with 1 Axes>"
      ]
     },
     "metadata": {},
     "output_type": "display_data"
    }
   ],
   "source": [
    "plt.hist(x)"
   ]
  },
  {
   "cell_type": "markdown",
   "metadata": {},
   "source": [
    "randint is very similar to rand however, it only returns value in integer format. This function can take up to 4 inputs, the low, high, size and dtype. for the dtype it is optional and can specify what the data type of the integers you want back, int64 or int etc."
   ]
  },
  {
   "cell_type": "code",
   "execution_count": 17,
   "metadata": {},
   "outputs": [],
   "source": [
    "x = np.random.randint(1, 100, size=(10, 10))"
   ]
  },
  {
   "cell_type": "code",
   "execution_count": 18,
   "metadata": {},
   "outputs": [
    {
     "data": {
      "text/plain": [
       "array([[93, 43, 20, 79, 99, 78, 13, 11, 95,  7],\n",
       "       [47, 86,  1, 10, 40, 77, 61, 75, 49, 89],\n",
       "       [91, 77,  1, 79, 26, 60, 60, 51, 16, 83],\n",
       "       [81, 61, 23, 94, 74, 46, 28,  4, 22, 69],\n",
       "       [97, 94, 57, 49, 47, 12, 21, 41, 61, 77],\n",
       "       [63, 79,  6,  5, 61, 54, 98,  2,  4,  9],\n",
       "       [36, 28, 98, 23, 76, 52, 41, 26, 74, 70],\n",
       "       [89, 75,  2, 75, 63, 62, 83, 24, 93,  2],\n",
       "       [30, 68, 29, 31, 82, 71, 91, 49, 78, 40],\n",
       "       [30, 66, 47, 79, 65, 62, 30, 26, 51, 95]])"
      ]
     },
     "execution_count": 18,
     "metadata": {},
     "output_type": "execute_result"
    }
   ],
   "source": [
    "x"
   ]
  },
  {
   "cell_type": "code",
   "execution_count": 19,
   "metadata": {},
   "outputs": [
    {
     "data": {
      "text/plain": [
       "([array([0., 0., 2., 1., 1., 0., 1., 0., 2., 3.]),\n",
       "  array([0., 0., 1., 0., 1., 0., 3., 3., 1., 1.]),\n",
       "  array([4., 1., 2., 0., 1., 1., 0., 0., 0., 1.]),\n",
       "  array([2., 0., 1., 1., 1., 0., 0., 4., 0., 1.]),\n",
       "  array([0., 0., 1., 1., 1., 0., 3., 2., 1., 1.]),\n",
       "  array([0., 1., 0., 0., 1., 2., 3., 3., 0., 0.]),\n",
       "  array([0., 1., 3., 0., 1., 0., 2., 0., 1., 2.]),\n",
       "  array([2., 1., 3., 0., 2., 1., 0., 1., 0., 0.]),\n",
       "  array([1., 1., 1., 0., 1., 1., 1., 2., 0., 2.]),\n",
       "  array([3., 0., 0., 1., 0., 0., 1., 2., 2., 1.])],\n",
       " array([ 1. , 10.8, 20.6, 30.4, 40.2, 50. , 59.8, 69.6, 79.4, 89.2, 99. ]),\n",
       " <a list of 10 Lists of Patches objects>)"
      ]
     },
     "execution_count": 19,
     "metadata": {},
     "output_type": "execute_result"
    },
    {
     "data": {
      "image/png": "[encoded data removed]",
      "text/plain": [
       "<Figure size 432x288 with 1 Axes>"
      ]
     },
     "metadata": {},
     "output_type": "display_data"
    }
   ],
   "source": [
    "plt.hist(x)"
   ]
  },
  {
   "cell_type": "markdown",
   "metadata": {},
   "source": [
    "# numpy random power"
   ]
  },
  {
   "cell_type": "markdown",
   "metadata": {},
   "source": [
    "The power distribution of the random dependency takes 2 parameters, a being the size of the distribution which is a float value, and the samples value. The greater the amount of samples the smoother the curve will be. \n",
    "adapted from: \n",
    "https://docs.scipy.org/doc/numpy-1.15.0/reference/generated/numpy.random.power.html#numpy.random.power\n",
    "https://en.wikipedia.org/wiki/Pareto_principle\n",
    "https://en.wikipedia.org/wiki/Power_law\n",
    "\n",
    "Including some examples of the power function are https://en.wikipedia.org/wiki/Initial_mass_function."
   ]
  },
  {
   "cell_type": "code",
   "execution_count": 28,
   "metadata": {},
   "outputs": [],
   "source": [
    "a = 6. # shape\n",
    "samples = 10000000\n",
    "s = np.random.power(a, samples)"
   ]
  },
  {
   "cell_type": "code",
   "execution_count": 29,
   "metadata": {},
   "outputs": [
    {
     "data": {
      "image/png": "[encoded data removed]",
      "text/plain": [
       "<Figure size 432x288 with 1 Axes>"
      ]
     },
     "metadata": {},
     "output_type": "display_data"
    }
   ],
   "source": [
    "count, bins, ignored = plt.hist(s, bins=30)\n",
    "x = np.linspace(0, 1, 100)\n",
    "y = a*x**(a-1.)\n",
    "normed_y = samples*np.diff(bins)[0]*y\n",
    "plt.plot(x, normed_y)\n",
    "plt.show()"
   ]
  },
  {
   "cell_type": "markdown",
   "metadata": {},
   "source": [
    "# numpy.random.poisson"
   ]
  },
  {
   "cell_type": "markdown",
   "metadata": {},
   "source": [
    "The Poisson distribution may be useful to model events such as:\n",
    "\n",
    "    The number of meteorites greater than 1 meter diameter that strike Earth in a year\n",
    "    The number of patients arriving in an emergency room between 10 and 11 pm\n",
    "    The number of photons hitting a detector in a particular time interval\n",
    "    \n",
    "src: https://en.wikipedia.org/wiki/Poisson_distribution\n",
    "\n",
    "The poisson function in numpy takes 2 values: \n",
    "    lam = Expected Interval value (float)\n",
    "    size = The shape that you want to be displayed."
   ]
  },
  {
   "cell_type": "code",
   "execution_count": 34,
   "metadata": {},
   "outputs": [],
   "source": [
    "import numpy as np\n",
    "s = np.random.poisson(5, 10000)"
   ]
  },
  {
   "cell_type": "code",
   "execution_count": 35,
   "metadata": {},
   "outputs": [
    {
     "data": {
      "image/png": "[encoded data removed]",
      "text/plain": [
       "<Figure size 432x288 with 1 Axes>"
      ]
     },
     "metadata": {},
     "output_type": "display_data"
    }
   ],
   "source": [
    "import matplotlib.pyplot as plt\n",
    "count, bins, ignored = plt.hist(s, 14, density=True)\n",
    "plt.show()"
   ]
  },
  {
   "cell_type": "code",
   "execution_count": 38,
   "metadata": {},
   "outputs": [
    {
     "data": {
      "image/png": "[encoded data removed]",
      "text/plain": [
       "<Figure size 432x288 with 1 Axes>"
      ]
     },
     "metadata": {},
     "output_type": "display_data"
    }
   ],
   "source": [
    "s = np.random.poisson(lam=(100., 500.), size=(100, 2))\n",
    "count, bins, ignored = plt.hist(s, 14, density=True)\n",
    "plt.show()"
   ]
  },
  {
   "cell_type": "code",
   "execution_count": null,
   "metadata": {},
   "outputs": [],
   "source": []
  }
 ],
 "metadata": {
  "kernelspec": {
   "display_name": "Python 3",
   "language": "python",
   "name": "python3"
  },
  "language_info": {
   "codemirror_mode": {
    "name": "ipython",
    "version": 3
   },
   "file_extension": ".py",
   "mimetype": "text/x-python",
   "name": "python",
   "nbconvert_exporter": "python",
   "pygments_lexer": "ipython3",
   "version": "3.6.5"
  }
 },
 "nbformat": 4,
 "nbformat_minor": 2
}
