{
 "cells": [
  {
   "cell_type": "markdown",
   "metadata": {},
   "source": [
    "# The numpy.random package"
   ]
  },
  {
   "cell_type": "markdown",
   "metadata": {},
   "source": [
    "Initial numpy random test on the rand function. The parameters that this function takes are integers, it can take as many dimensions as the user wishes generally only using 1 or 2 dimensions. Here I have generated 1000 random numbers using the rand function and it returns an array with 1000 random numbers between 0 and 1, including 0 but not 1. I have also graphed these numbers for a better visualization of how suedo random these numbers are."
   ]
  },
  {
   "cell_type": "code",
   "execution_count": 68,
   "metadata": {},
   "outputs": [],
   "source": [
    "import numpy as np"
   ]
  },
  {
   "cell_type": "code",
   "execution_count": 122,
   "metadata": {},
   "outputs": [],
   "source": [
    "x = np.random.rand(1000)"
   ]
  },
  {
   "cell_type": "code",
   "execution_count": 82,
   "metadata": {},
   "outputs": [],
   "source": [
    "import matplotlib.pyplot as plt"
   ]
  },
  {
   "cell_type": "code",
   "execution_count": 83,
   "metadata": {},
   "outputs": [
    {
     "data": {
      "image/png": "[encoded data removed]",
      "text/plain": [
       "<Figure size 432x288 with 1 Axes>"
      ]
     },
     "metadata": {},
     "output_type": "display_data"
    }
   ],
   "source": [
    "plt.hist(x)\n",
    "plt.show()"
   ]
  },
  {
   "cell_type": "markdown",
   "metadata": {},
   "source": [
    "The second function I will be researching here is the uniform function. This function allows for more input parameters such as the lower values, the higher values and also the size. When the user inputs values for the low and high, if the higher value is lower than the low value the function will switch these values and still run, so it is not a good idea to rely on this function if you are relying on the inequality condition."
   ]
  },
  {
   "cell_type": "code",
   "execution_count": 64,
   "metadata": {},
   "outputs": [],
   "source": [
    "x = np.random.uniform(-1, 0, 10)"
   ]
  },
  {
   "cell_type": "code",
   "execution_count": 84,
   "metadata": {},
   "outputs": [
    {
     "data": {
      "text/plain": [
       "(array([ 96.,  98., 106.,  89.,  92., 115., 122.,  75., 101., 106.]),\n",
       " array([1.72125750e-04, 1.00022950e-01, 1.99873774e-01, 2.99724598e-01,\n",
       "        3.99575422e-01, 4.99426246e-01, 5.99277069e-01, 6.99127893e-01,\n",
       "        7.98978717e-01, 8.98829541e-01, 9.98680365e-01]),\n",
       " <a list of 10 Patch objects>)"
      ]
     },
     "execution_count": 84,
     "metadata": {},
     "output_type": "execute_result"
    },
    {
     "data": {
      "image/png": "[encoded data removed]",
      "text/plain": [
       "<Figure size 432x288 with 1 Axes>"
      ]
     },
     "metadata": {},
     "output_type": "display_data"
    }
   ],
   "source": [
    "plt.hist(x)"
   ]
  },
  {
   "cell_type": "markdown",
   "metadata": {},
   "source": [
    "The normal function found in numpy states Draw random samples from a normal (Gaussian) distribution. this function takes in 3 inputs: loc (mean), scale(Standard Deviation) and the size. Returning a scaler graphical represention of what is commenly reffered to as the bell curve.\n",
    "ref: https://en.wikipedia.org/wiki/Normal_distribution\n"
   ]
  },
  {
   "cell_type": "code",
   "execution_count": 49,
   "metadata": {},
   "outputs": [],
   "source": [
    "x = np.random.normal(0.1, 1, 1000)"
   ]
  },
  {
   "cell_type": "code",
   "execution_count": 50,
   "metadata": {},
   "outputs": [
    {
     "data": {
      "text/plain": [
       "(array([  2.,  27.,  58., 156., 260., 244., 163.,  73.,  13.,   4.]),\n",
       " array([-3.1769332 , -2.52034932, -1.86376545, -1.20718158, -0.5505977 ,\n",
       "         0.10598617,  0.76257004,  1.41915392,  2.07573779,  2.73232166,\n",
       "         3.38890554]),\n",
       " <a list of 10 Patch objects>)"
      ]
     },
     "execution_count": 50,
     "metadata": {},
     "output_type": "execute_result"
    },
    {
     "data": {
      "image/png": "[encoded data removed]",
      "text/plain": [
       "<Figure size 432x288 with 1 Axes>"
      ]
     },
     "metadata": {},
     "output_type": "display_data"
    }
   ],
   "source": [
    "plt.hist(x)"
   ]
  },
  {
   "cell_type": "markdown",
   "metadata": {},
   "source": [
    "randint is very similar to rand however, it only returns value in integer format. This function can take up to 4 inputs, the low, high, size and dtype. for the dtype it is optional and can specify what the data type of the integers you want back, int64 or int etc."
   ]
  },
  {
   "cell_type": "code",
   "execution_count": 124,
   "metadata": {},
   "outputs": [],
   "source": [
    "x = np.random.randint(1, 100, size=(10, 10))"
   ]
  },
  {
   "cell_type": "code",
   "execution_count": 125,
   "metadata": {},
   "outputs": [
    {
     "data": {
      "text/plain": [
       "array([[33, 76, 45,  9, 14, 83,  1, 94, 67,  8],\n",
       "       [36, 53, 82,  7, 29, 75, 85, 54, 76, 81],\n",
       "       [88, 29, 57,  2, 74, 95, 57, 71, 75, 75],\n",
       "       [76, 57, 26, 14, 91, 34, 66, 57, 31, 21],\n",
       "       [53, 83, 87, 76, 33, 85, 16, 99, 67, 46],\n",
       "       [30, 85, 10, 61, 23, 42, 48, 42, 35, 41],\n",
       "       [38, 19,  9,  6, 67, 98, 71, 41, 47,  6],\n",
       "       [88, 11, 25, 25, 76, 30, 22, 51, 85, 96],\n",
       "       [26, 65,  6,  3, 88, 84, 34, 75,  7, 67],\n",
       "       [83, 13, 40, 86, 28, 12, 99, 19, 53, 88]])"
      ]
     },
     "execution_count": 125,
     "metadata": {},
     "output_type": "execute_result"
    }
   ],
   "source": [
    "x"
   ]
  }
 ],
 "metadata": {
  "kernelspec": {
   "display_name": "Python 3",
   "language": "python",
   "name": "python3"
  },
  "language_info": {
   "codemirror_mode": {
    "name": "ipython",
    "version": 3
   },
   "file_extension": ".py",
   "mimetype": "text/x-python",
   "name": "python",
   "nbconvert_exporter": "python",
   "pygments_lexer": "ipython3",
   "version": "3.6.5"
  }
 },
 "nbformat": 4,
 "nbformat_minor": 2
}
